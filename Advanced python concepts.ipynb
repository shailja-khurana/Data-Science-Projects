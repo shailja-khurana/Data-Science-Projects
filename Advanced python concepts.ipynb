{
 "cells": [
  {
   "cell_type": "markdown",
   "metadata": {},
   "source": [
    "## This code covers Positional and keyword arguments, Lambda(),Map() and Filter() functions and List comprehension."
   ]
  },
  {
   "cell_type": "markdown",
   "metadata": {},
   "source": [
    "### Positional and keyword arguments"
   ]
  },
  {
   "cell_type": "code",
   "execution_count": 1,
   "metadata": {},
   "outputs": [
    {
     "data": {
      "text/plain": [
       "6"
      ]
     },
     "execution_count": 1,
     "metadata": {},
     "output_type": "execute_result"
    }
   ],
   "source": [
    "## * denotes positional argument and **denotes keyword\n",
    "## keyword arguments always declared after positional args.\n",
    "\n",
    "def multiply(a,b,c=1):            ## a,b are positional args and c is keyword arg\n",
    "    return a*b*c              ##if c's value is passed ,it will take that value but \n",
    "                            ##if value of c is not passed while calling the function, default value of c=1 will be taken\n",
    "\n",
    "multiply(2,3)"
   ]
  },
  {
   "cell_type": "code",
   "execution_count": 2,
   "metadata": {},
   "outputs": [
    {
     "data": {
      "text/plain": [
       "60"
      ]
     },
     "execution_count": 2,
     "metadata": {},
     "output_type": "execute_result"
    }
   ],
   "source": [
    "multiply(2,5,6)"
   ]
  },
  {
   "cell_type": "code",
   "execution_count": 3,
   "metadata": {},
   "outputs": [
    {
     "name": "stdout",
     "output_type": "stream",
     "text": [
      "('Samarth',)\n",
      "{'country': 'india'}\n"
     ]
    }
   ],
   "source": [
    "def student_data(*args,**kwargs):                   ##args is positional,kwargs is keyword args\n",
    "    print (args)\n",
    "    print(kwargs)\n",
    "    \n",
    "student_data(\"Samarth\",country=\"india\")"
   ]
  },
  {
   "cell_type": "code",
   "execution_count": 4,
   "metadata": {},
   "outputs": [
    {
     "name": "stdout",
     "output_type": "stream",
     "text": [
      "([1, 2, 3, 4],)\n",
      "{'kwargs': ['rohan', 'samarth']}\n"
     ]
    }
   ],
   "source": [
    "list1 = [1,2,3,4]\n",
    "names = ['rohan','samarth']\n",
    "\n",
    "def display(*args,**kwargs):\n",
    "    print(args)\n",
    "    print (kwargs)\n",
    "\n",
    "display(list1,kwargs=names)"
   ]
  },
  {
   "cell_type": "markdown",
   "metadata": {},
   "source": [
    "### Lambda function\n",
    "\n",
    "+ anonymous function,with no name \n",
    "+ defined with lambda keyword-\n",
    "\n",
    "        e.g. lambda argument :expression\n",
    "+ it may containt multiple arguments but has only one expression\n",
    "+ runs faster than normally defined function"
   ]
  },
  {
   "cell_type": "code",
   "execution_count": 5,
   "metadata": {},
   "outputs": [],
   "source": [
    "stu_type = lambda x: x+10"
   ]
  },
  {
   "cell_type": "code",
   "execution_count": 6,
   "metadata": {},
   "outputs": [
    {
     "data": {
      "text/plain": [
       "16"
      ]
     },
     "execution_count": 6,
     "metadata": {},
     "output_type": "execute_result"
    }
   ],
   "source": [
    "stu_type(6)"
   ]
  },
  {
   "cell_type": "markdown",
   "metadata": {},
   "source": [
    "### with comparison to normal used defined function, Lambda takes one line of code and run faster.\n",
    "### also it doesnt use return statement\n"
   ]
  },
  {
   "cell_type": "code",
   "execution_count": 7,
   "metadata": {},
   "outputs": [
    {
     "data": {
      "text/plain": [
       "343"
      ]
     },
     "execution_count": 7,
     "metadata": {},
     "output_type": "execute_result"
    }
   ],
   "source": [
    "def cube(x):\n",
    "    return (x*x*x)\n",
    "\n",
    "cube(7)"
   ]
  },
  {
   "cell_type": "code",
   "execution_count": 8,
   "metadata": {},
   "outputs": [
    {
     "data": {
      "text/plain": [
       "729"
      ]
     },
     "execution_count": 8,
     "metadata": {},
     "output_type": "execute_result"
    }
   ],
   "source": [
    "product = lambda y: y*y*y\n",
    "\n",
    "product(9)"
   ]
  },
  {
   "cell_type": "markdown",
   "metadata": {},
   "source": [
    "## The Map() function\n",
    "\n",
    "map functions expects a function object and any number of iterables like list, dictionary, etc. It executes the function_object for each element in the sequence and returns a list of the elements modified by the function object.In more simple terms , the map() function basically maps every item in the input iterable to the corresponding item in the output iterable, according to the logic defined by the lambda function.\n",
    "\n",
    "syntax- map(function_object, iterable1)"
   ]
  },
  {
   "cell_type": "code",
   "execution_count": 9,
   "metadata": {},
   "outputs": [],
   "source": [
    "number_list = [1,2,3,4,5,6,7]\n",
    "\n",
    "even_number = list(map((lambda x: x%2),number_list) )"
   ]
  },
  {
   "cell_type": "code",
   "execution_count": 10,
   "metadata": {},
   "outputs": [
    {
     "data": {
      "text/plain": [
       "[1, 0, 1, 0, 1, 0, 1]"
      ]
     },
     "execution_count": 10,
     "metadata": {},
     "output_type": "execute_result"
    }
   ],
   "source": [
    "even_number"
   ]
  },
  {
   "cell_type": "code",
   "execution_count": 11,
   "metadata": {},
   "outputs": [],
   "source": [
    "#instead of lambda function,any use definec function can be used\n",
    "\n",
    "def test_even_number(num):\n",
    "    if (num%2==0):\n",
    "        print (\"this number {} is even\".format(num))\n",
    "    else:\n",
    "        print (\"this number {} is odd\".format(num))"
   ]
  },
  {
   "cell_type": "code",
   "execution_count": 12,
   "metadata": {},
   "outputs": [
    {
     "name": "stdout",
     "output_type": "stream",
     "text": [
      "this number 2 is even\n",
      "this number 3 is odd\n",
      "this number 4 is even\n",
      "this number 5 is odd\n",
      "this number 6 is even\n"
     ]
    }
   ],
   "source": [
    "list1 = [2,3,4,5,6]\n",
    "even_number_print = list(map(test_even_number,list1))   ##giving map function without any variable assignment \n",
    "                                                        ##is \"lazy overloading\""
   ]
  },
  {
   "cell_type": "markdown",
   "metadata": {},
   "source": [
    "## The filter() function\n",
    "\n",
    "filter(lambda function, iterable)\n",
    "\n",
    "\n",
    "The object here should be a lambda function which returns a boolean value. The object will be called for every item in the iterable to do the evaluation. The result is either a True or a False for every item. Note that the function can only take one iterable as the input.The filter() function returns a list of those elements that return True when evaluated by the lambda funtion."
   ]
  },
  {
   "cell_type": "code",
   "execution_count": 13,
   "metadata": {},
   "outputs": [
    {
     "name": "stdout",
     "output_type": "stream",
     "text": [
      "[2, 48]\n"
     ]
    }
   ],
   "source": [
    "number_list =[1,2,3,48,9,23,35,11]\n",
    "\n",
    "even_number_list = list(filter(lambda x: (x%2==0), number_list))  ##lambda func will check for divisibility by2 ==0\n",
    "print(even_number_list)"
   ]
  },
  {
   "cell_type": "code",
   "execution_count": 14,
   "metadata": {},
   "outputs": [
    {
     "data": {
      "text/plain": [
       "[2, 48]"
      ]
     },
     "execution_count": 14,
     "metadata": {},
     "output_type": "execute_result"
    }
   ],
   "source": [
    "##using user defined func\n",
    "\n",
    "def even_check(num):\n",
    "    if(num%2==0):\n",
    "        return (num)\n",
    "\n",
    "even_number = list(filter(even_check,number_list))\n",
    "even_number"
   ]
  },
  {
   "cell_type": "markdown",
   "metadata": {},
   "source": [
    "### List comprehension\n",
    "\n",
    "This provides a concise and easy way to create Lists.It contains en expression, starting with brackets with expression, followed by For loop, followed by zero or more if/for loop constructs."
   ]
  },
  {
   "cell_type": "code",
   "execution_count": 15,
   "metadata": {},
   "outputs": [
    {
     "data": {
      "text/plain": [
       "[1, 4, 9, 2116, 64, 144, 196]"
      ]
     },
     "execution_count": 15,
     "metadata": {},
     "output_type": "execute_result"
    }
   ],
   "source": [
    "list1 = [1,2,3,46,8,12,14]\n",
    "newlist = []\n",
    "def compute_sqr(list1):\n",
    "    for i in list1:\n",
    "        newlist.append(i*i)\n",
    "    return newlist\n",
    "\n",
    "sqr_list = compute_sqr(list1)\n",
    "sqr_list"
   ]
  },
  {
   "cell_type": "code",
   "execution_count": 16,
   "metadata": {},
   "outputs": [
    {
     "data": {
      "text/plain": [
       "[1, 4, 9, 2116, 64, 144, 196]"
      ]
     },
     "execution_count": 16,
     "metadata": {},
     "output_type": "execute_result"
    }
   ],
   "source": [
    "##instead of doing this, we can use list comprehension\n",
    "\n",
    "sqr_new_list = [i*i for i in list1]   ##concise form of writing compute_sqr function code in one line\n",
    "sqr_new_list"
   ]
  },
  {
   "cell_type": "code",
   "execution_count": 17,
   "metadata": {},
   "outputs": [
    {
     "data": {
      "text/plain": [
       "[4, 2116, 64, 144, 196]"
      ]
     },
     "execution_count": 17,
     "metadata": {},
     "output_type": "execute_result"
    }
   ],
   "source": [
    "## we can also nest further if/for loop\n",
    "\n",
    "sqr_new_list2 = [i*i for i in list1 if (i%2==0)]\n",
    "sqr_new_list2"
   ]
  },
  {
   "cell_type": "code",
   "execution_count": null,
   "metadata": {},
   "outputs": [],
   "source": []
  }
 ],
 "metadata": {
  "kernelspec": {
   "display_name": "Python 3",
   "language": "python",
   "name": "python3"
  },
  "language_info": {
   "codemirror_mode": {
    "name": "ipython",
    "version": 3
   },
   "file_extension": ".py",
   "mimetype": "text/x-python",
   "name": "python",
   "nbconvert_exporter": "python",
   "pygments_lexer": "ipython3",
   "version": "3.8.5"
  }
 },
 "nbformat": 4,
 "nbformat_minor": 4
}
