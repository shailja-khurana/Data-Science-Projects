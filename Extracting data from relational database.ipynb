{
 "cells": [
  {
   "cell_type": "markdown",
   "metadata": {},
   "source": [
    "## Extracting data from relational database- SQLite\n",
    "\n",
    "+ SQLite - light database,stored locally, SQLite3 module is used for this.\n",
   ]
  },
  {
   "cell_type": "markdown",
   "metadata": {},
   "source": [
    "### SQLite Database"
   ]
  },
  {
   "cell_type": "markdown",
   "metadata": {},
   "source": [
    "#### import package"
   ]
  },
  {
   "cell_type": "code",
   "execution_count": 1,
   "metadata": {},
   "outputs": [],
   "source": [
    "# import sqlite3 package\n",
    "import sqlite3"
   ]
  },
  {
   "cell_type": "markdown",
   "metadata": {},
   "source": [
    "#### connect to database"
   ]
  },
  {
   "cell_type": "code",
   "execution_count": 2,
   "metadata": {},
   "outputs": [],
   "source": [
    "# create a connection to a database :if DB is not present, new DB is created\n",
    "connection = sqlite3.connect(\"SampleDatabase1.db\")\n",
    "connection.close()"
   ]
  },
  {
   "cell_type": "markdown",
   "metadata": {},
   "source": [
    "#### create table"
   ]
  },
  {
   "cell_type": "code",
   "execution_count": 3,
   "metadata": {},
   "outputs": [],
   "source": [
    "# open connection\n",
    "connection = sqlite3.connect(\"SampleDatabase1.db\")\n",
    "# open cursor\n",
    "cursor = connection.cursor()\n",
    "# query for creating table\n",
    "create_table = \"\"\"\n",
    "                CREATE TABLE student_marks ( \n",
    "                student_id INTEGER PRIMARY KEY, \n",
    "                name VARCHAR(20), \n",
    "                gender CHAR(1), \n",
    "                maths INTEGER,\n",
    "                english INTEGER,\n",
    "                science INTEGER\n",
    "              );\"\"\"\n",
    "# execute query\n",
    "cursor.execute(create_table)\n",
    "# commit changes\n",
    "connection.commit()\n",
    "# close connection\n",
    "connection.close()"
   ]
  },
  {
   "cell_type": "markdown",
   "metadata": {},
   "source": [
    "#### delete and insert data"
   ]
  },
  {
   "cell_type": "code",
   "execution_count": 4,
   "metadata": {},
   "outputs": [],
   "source": [
    "## connection = sqlite3.connect(\"SampleDatabase1.db\")\n",
    "#cursor = connection.cursor()\n",
    "## Delete all student records\n",
    "#query = \"DELETE  FROM student_marks\"\n",
    "## execute query\n",
    "#cursor.execute(query) \n",
    "## commit changes\n",
    "#connection.commit()\n",
    "## close connection\n",
    "#connection.close()\n"
   ]
  },
  {
   "cell_type": "code",
   "execution_count": 6,
   "metadata": {},
   "outputs": [],
   "source": [
    "# sample data\n",
    "classroom_data = [( 1, \"Maanya\",\"F\", 70, 84, 92),\n",
    "                  ( 2, \"Ashish\",\"M\", 87, 69, 93),\n",
    "                  ( 3, \"Ankush\",\"M\", 65, 83, 90),\n",
    "                  ( 4, \"Gagan\",\"M\", 83, 76, 89),\n",
    "                  ( 5, \"Abhi\",\"M\", 88, 77, 99),\n",
    "                  ( 6, \"Shanaya\",\"F\", 98, 67, 98)]\n",
    "# open connection\n",
    "connection = sqlite3.connect(\"SampleDatabase1.db\")\n",
    "# open cursor\n",
    "cursor = connection.cursor()\n",
    "# insert each student record\n",
    "for student in classroom_data:\n",
    "    # formatted query string\n",
    "    insert_statement = \"\"\"INSERT INTO student_marks \n",
    "                      (student_id, name, gender, maths, english, science)\n",
    "                      VALUES \n",
    "                      ({0}, \"{1}\", \"{2}\", {3}, {4}, {5});\"\"\".format(student[0], student[1], student[2], \n",
    "                                                              student[3],student[4], student[5])\n",
    "    # execute insert query\n",
    "    cursor.execute(insert_statement)\n",
    "\n",
    "# commit the changes\n",
    "connection.commit()\n",
    "# close the connection\n",
    "connection.close()"
   ]
  },
  {
   "cell_type": "markdown",
   "metadata": {},
   "source": [
    "#### extract data"
   ]
  },
  {
   "cell_type": "code",
   "execution_count": 7,
   "metadata": {},
   "outputs": [
    {
     "name": "stdout",
     "output_type": "stream",
     "text": [
      "(1, 'Maanya', 'F', 70, 84, 92)\n",
      "(2, 'Ashish', 'M', 87, 69, 93)\n",
      "(3, 'Ankush', 'M', 65, 83, 90)\n",
      "(4, 'Gagan', 'M', 83, 76, 89)\n",
      "(5, 'Abhi', 'M', 88, 77, 99)\n",
      "(6, 'Shanaya', 'F', 98, 67, 98)\n"
     ]
    }
   ],
   "source": [
    "# open connection\n",
    "connection = sqlite3.connect(\"SampleDatabase1.db\")\n",
    "# open cursor\n",
    "cursor = connection.cursor()\n",
    "# query\n",
    "query = \"SELECT * FROM student_marks\"\n",
    "# execute query\n",
    "cursor.execute(query) \n",
    "# fetch results\n",
    "result = cursor.fetchall() \n",
    "# print results\n",
    "for row in result:\n",
    "    print(row)\n",
    "# close connection\n",
    "connection.close()"
   ]
  }
 ],
 "metadata": {
  "anaconda-cloud": {},
  "hide_input": false,
  "kernelspec": {
   "display_name": "Python 3",
   "language": "python",
   "name": "python3"
  },
  "language_info": {
   "codemirror_mode": {
    "name": "ipython",
    "version": 3
   },
   "file_extension": ".py",
   "mimetype": "text/x-python",
   "name": "python",
   "nbconvert_exporter": "python",
   "pygments_lexer": "ipython3",
   "version": "3.8.5"
  },
  "toc": {
   "nav_menu": {
    "height": "390px",
    "width": "252px"
   },
   "navigate_menu": true,
   "number_sections": false,
   "sideBar": true,
   "threshold": 4,
   "toc_cell": false,
   "toc_section_display": "block",
   "toc_window_display": false
  }
 },
 "nbformat": 4,
 "nbformat_minor": 1
}
